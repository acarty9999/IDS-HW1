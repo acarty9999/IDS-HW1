{
  "nbformat": 4,
  "nbformat_minor": 0,
  "metadata": {
    "colab": {
      "provenance": [],
      "authorship_tag": "ABX9TyPx7AT+4NPLKFUnRoivb+nP",
      "include_colab_link": true
    },
    "kernelspec": {
      "name": "python3",
      "display_name": "Python 3"
    },
    "language_info": {
      "name": "python"
    }
  },
  "cells": [
    {
      "cell_type": "markdown",
      "metadata": {
        "id": "view-in-github",
        "colab_type": "text"
      },
      "source": [
        "<a href=\"https://colab.research.google.com/github/acarty9999/IDS-HW1/blob/main/project5.ipynb\" target=\"_parent\"><img src=\"https://colab.research.google.com/assets/colab-badge.svg\" alt=\"Open In Colab\"/></a>"
      ]
    },
    {
      "cell_type": "markdown",
      "source": [
        "# **Summarize Findings**\n",
        "\n",
        "3) No missing values\n",
        "\n",
        "4) Label encoding\n",
        "\n",
        "---\n",
        "\n",
        "7)\n",
        "\n",
        "**A)**\n",
        "Prior probability of Type = Red: 0.3243647234678625 = 32%\n",
        "\n",
        "Prior probability of Type = White: 0.6756352765321375 = 67.5%\n",
        "\n",
        "**B)** Probability of High Alcohol Content: 0.49656203288490286 = 50%\n",
        "\n",
        "Probability of Low Alcohol Content: 0.5034379671150971 = 50%\n",
        "\n",
        "**C)** Probability of High Sugar Content: 0.48400597907324366 = 48%\n",
        "\n",
        "Probability of Low Sugar Content: 0.5159940209267564 = 52%\n",
        "\n",
        "**D)** P(Alcohol_flag = High | Type = Red): 0.5529953917050692 = 55%\n",
        "\n",
        "P(Alcohol_flag = Low | Type = Red): 0.4470046082949309 = 45%\n",
        "\n",
        "**E)** P(Sugar_flag = High | Type = Red): 0.7815668202764977 = 78%\n",
        "\n",
        "P(Sugar_flag = Low | Type = Red): 0.2184331797235023 = 22%\n",
        "\n",
        "---\n",
        "\n",
        "8)\n",
        "Accuracy for 80-19 split: **0.7204783258594918**\n",
        "\n",
        "Accuracy for 75-25 split: **0.7228195937873357**\n",
        "\n",
        "Accuracy for 70-30 split: **0.7260956175298805**\n",
        "\n",
        "Accuracy for 60-40 split: **0.7242152466367713**\n",
        "\n",
        "Accuracy for 50-50 split: **0.7280334728033473**\n",
        "\n"
      ],
      "metadata": {
        "id": "8X6Tpa_uvZh4"
      }
    },
    {
      "cell_type": "markdown",
      "source": [
        "# **Code -Below- **\n"
      ],
      "metadata": {
        "id": "ERFzlZsMvFK-"
      }
    },
    {
      "cell_type": "code",
      "execution_count": 1,
      "metadata": {
        "colab": {
          "base_uri": "https://localhost:8080/",
          "height": 423
        },
        "id": "TStYzX2Hrq2n",
        "outputId": "09e983b4-c20b-4efb-96e9-71a08b645ab8"
      },
      "outputs": [
        {
          "output_type": "execute_result",
          "data": {
            "text/plain": [
              "       Type Alcohol_flag Sugar_flag\n",
              "0       Red         High       High\n",
              "1       Red         High        Low\n",
              "2       Red          Low       High\n",
              "3       Red         High        Low\n",
              "4       Red          Low        Low\n",
              "...     ...          ...        ...\n",
              "3340  White         High       High\n",
              "3341  White         High        Low\n",
              "3342  White         High        Low\n",
              "3343  White         High        Low\n",
              "3344  White         High        Low\n",
              "\n",
              "[3345 rows x 3 columns]"
            ],
            "text/html": [
              "\n",
              "  <div id=\"df-e64c94eb-65f0-497b-9f0f-20b3c3288dd1\" class=\"colab-df-container\">\n",
              "    <div>\n",
              "<style scoped>\n",
              "    .dataframe tbody tr th:only-of-type {\n",
              "        vertical-align: middle;\n",
              "    }\n",
              "\n",
              "    .dataframe tbody tr th {\n",
              "        vertical-align: top;\n",
              "    }\n",
              "\n",
              "    .dataframe thead th {\n",
              "        text-align: right;\n",
              "    }\n",
              "</style>\n",
              "<table border=\"1\" class=\"dataframe\">\n",
              "  <thead>\n",
              "    <tr style=\"text-align: right;\">\n",
              "      <th></th>\n",
              "      <th>Type</th>\n",
              "      <th>Alcohol_flag</th>\n",
              "      <th>Sugar_flag</th>\n",
              "    </tr>\n",
              "  </thead>\n",
              "  <tbody>\n",
              "    <tr>\n",
              "      <th>0</th>\n",
              "      <td>Red</td>\n",
              "      <td>High</td>\n",
              "      <td>High</td>\n",
              "    </tr>\n",
              "    <tr>\n",
              "      <th>1</th>\n",
              "      <td>Red</td>\n",
              "      <td>High</td>\n",
              "      <td>Low</td>\n",
              "    </tr>\n",
              "    <tr>\n",
              "      <th>2</th>\n",
              "      <td>Red</td>\n",
              "      <td>Low</td>\n",
              "      <td>High</td>\n",
              "    </tr>\n",
              "    <tr>\n",
              "      <th>3</th>\n",
              "      <td>Red</td>\n",
              "      <td>High</td>\n",
              "      <td>Low</td>\n",
              "    </tr>\n",
              "    <tr>\n",
              "      <th>4</th>\n",
              "      <td>Red</td>\n",
              "      <td>Low</td>\n",
              "      <td>Low</td>\n",
              "    </tr>\n",
              "    <tr>\n",
              "      <th>...</th>\n",
              "      <td>...</td>\n",
              "      <td>...</td>\n",
              "      <td>...</td>\n",
              "    </tr>\n",
              "    <tr>\n",
              "      <th>3340</th>\n",
              "      <td>White</td>\n",
              "      <td>High</td>\n",
              "      <td>High</td>\n",
              "    </tr>\n",
              "    <tr>\n",
              "      <th>3341</th>\n",
              "      <td>White</td>\n",
              "      <td>High</td>\n",
              "      <td>Low</td>\n",
              "    </tr>\n",
              "    <tr>\n",
              "      <th>3342</th>\n",
              "      <td>White</td>\n",
              "      <td>High</td>\n",
              "      <td>Low</td>\n",
              "    </tr>\n",
              "    <tr>\n",
              "      <th>3343</th>\n",
              "      <td>White</td>\n",
              "      <td>High</td>\n",
              "      <td>Low</td>\n",
              "    </tr>\n",
              "    <tr>\n",
              "      <th>3344</th>\n",
              "      <td>White</td>\n",
              "      <td>High</td>\n",
              "      <td>Low</td>\n",
              "    </tr>\n",
              "  </tbody>\n",
              "</table>\n",
              "<p>3345 rows × 3 columns</p>\n",
              "</div>\n",
              "    <div class=\"colab-df-buttons\">\n",
              "\n",
              "  <div class=\"colab-df-container\">\n",
              "    <button class=\"colab-df-convert\" onclick=\"convertToInteractive('df-e64c94eb-65f0-497b-9f0f-20b3c3288dd1')\"\n",
              "            title=\"Convert this dataframe to an interactive table.\"\n",
              "            style=\"display:none;\">\n",
              "\n",
              "  <svg xmlns=\"http://www.w3.org/2000/svg\" height=\"24px\" viewBox=\"0 -960 960 960\">\n",
              "    <path d=\"M120-120v-720h720v720H120Zm60-500h600v-160H180v160Zm220 220h160v-160H400v160Zm0 220h160v-160H400v160ZM180-400h160v-160H180v160Zm440 0h160v-160H620v160ZM180-180h160v-160H180v160Zm440 0h160v-160H620v160Z\"/>\n",
              "  </svg>\n",
              "    </button>\n",
              "\n",
              "  <style>\n",
              "    .colab-df-container {\n",
              "      display:flex;\n",
              "      gap: 12px;\n",
              "    }\n",
              "\n",
              "    .colab-df-convert {\n",
              "      background-color: #E8F0FE;\n",
              "      border: none;\n",
              "      border-radius: 50%;\n",
              "      cursor: pointer;\n",
              "      display: none;\n",
              "      fill: #1967D2;\n",
              "      height: 32px;\n",
              "      padding: 0 0 0 0;\n",
              "      width: 32px;\n",
              "    }\n",
              "\n",
              "    .colab-df-convert:hover {\n",
              "      background-color: #E2EBFA;\n",
              "      box-shadow: 0px 1px 2px rgba(60, 64, 67, 0.3), 0px 1px 3px 1px rgba(60, 64, 67, 0.15);\n",
              "      fill: #174EA6;\n",
              "    }\n",
              "\n",
              "    .colab-df-buttons div {\n",
              "      margin-bottom: 4px;\n",
              "    }\n",
              "\n",
              "    [theme=dark] .colab-df-convert {\n",
              "      background-color: #3B4455;\n",
              "      fill: #D2E3FC;\n",
              "    }\n",
              "\n",
              "    [theme=dark] .colab-df-convert:hover {\n",
              "      background-color: #434B5C;\n",
              "      box-shadow: 0px 1px 3px 1px rgba(0, 0, 0, 0.15);\n",
              "      filter: drop-shadow(0px 1px 2px rgba(0, 0, 0, 0.3));\n",
              "      fill: #FFFFFF;\n",
              "    }\n",
              "  </style>\n",
              "\n",
              "    <script>\n",
              "      const buttonEl =\n",
              "        document.querySelector('#df-e64c94eb-65f0-497b-9f0f-20b3c3288dd1 button.colab-df-convert');\n",
              "      buttonEl.style.display =\n",
              "        google.colab.kernel.accessAllowed ? 'block' : 'none';\n",
              "\n",
              "      async function convertToInteractive(key) {\n",
              "        const element = document.querySelector('#df-e64c94eb-65f0-497b-9f0f-20b3c3288dd1');\n",
              "        const dataTable =\n",
              "          await google.colab.kernel.invokeFunction('convertToInteractive',\n",
              "                                                    [key], {});\n",
              "        if (!dataTable) return;\n",
              "\n",
              "        const docLinkHtml = 'Like what you see? Visit the ' +\n",
              "          '<a target=\"_blank\" href=https://colab.research.google.com/notebooks/data_table.ipynb>data table notebook</a>'\n",
              "          + ' to learn more about interactive tables.';\n",
              "        element.innerHTML = '';\n",
              "        dataTable['output_type'] = 'display_data';\n",
              "        await google.colab.output.renderOutput(dataTable, element);\n",
              "        const docLink = document.createElement('div');\n",
              "        docLink.innerHTML = docLinkHtml;\n",
              "        element.appendChild(docLink);\n",
              "      }\n",
              "    </script>\n",
              "  </div>\n",
              "\n",
              "\n",
              "<div id=\"df-bb00ad6b-79fc-422b-90bc-af2f55a2ec21\">\n",
              "  <button class=\"colab-df-quickchart\" onclick=\"quickchart('df-bb00ad6b-79fc-422b-90bc-af2f55a2ec21')\"\n",
              "            title=\"Suggest charts\"\n",
              "            style=\"display:none;\">\n",
              "\n",
              "<svg xmlns=\"http://www.w3.org/2000/svg\" height=\"24px\"viewBox=\"0 0 24 24\"\n",
              "     width=\"24px\">\n",
              "    <g>\n",
              "        <path d=\"M19 3H5c-1.1 0-2 .9-2 2v14c0 1.1.9 2 2 2h14c1.1 0 2-.9 2-2V5c0-1.1-.9-2-2-2zM9 17H7v-7h2v7zm4 0h-2V7h2v10zm4 0h-2v-4h2v4z\"/>\n",
              "    </g>\n",
              "</svg>\n",
              "  </button>\n",
              "\n",
              "<style>\n",
              "  .colab-df-quickchart {\n",
              "      --bg-color: #E8F0FE;\n",
              "      --fill-color: #1967D2;\n",
              "      --hover-bg-color: #E2EBFA;\n",
              "      --hover-fill-color: #174EA6;\n",
              "      --disabled-fill-color: #AAA;\n",
              "      --disabled-bg-color: #DDD;\n",
              "  }\n",
              "\n",
              "  [theme=dark] .colab-df-quickchart {\n",
              "      --bg-color: #3B4455;\n",
              "      --fill-color: #D2E3FC;\n",
              "      --hover-bg-color: #434B5C;\n",
              "      --hover-fill-color: #FFFFFF;\n",
              "      --disabled-bg-color: #3B4455;\n",
              "      --disabled-fill-color: #666;\n",
              "  }\n",
              "\n",
              "  .colab-df-quickchart {\n",
              "    background-color: var(--bg-color);\n",
              "    border: none;\n",
              "    border-radius: 50%;\n",
              "    cursor: pointer;\n",
              "    display: none;\n",
              "    fill: var(--fill-color);\n",
              "    height: 32px;\n",
              "    padding: 0;\n",
              "    width: 32px;\n",
              "  }\n",
              "\n",
              "  .colab-df-quickchart:hover {\n",
              "    background-color: var(--hover-bg-color);\n",
              "    box-shadow: 0 1px 2px rgba(60, 64, 67, 0.3), 0 1px 3px 1px rgba(60, 64, 67, 0.15);\n",
              "    fill: var(--button-hover-fill-color);\n",
              "  }\n",
              "\n",
              "  .colab-df-quickchart-complete:disabled,\n",
              "  .colab-df-quickchart-complete:disabled:hover {\n",
              "    background-color: var(--disabled-bg-color);\n",
              "    fill: var(--disabled-fill-color);\n",
              "    box-shadow: none;\n",
              "  }\n",
              "\n",
              "  .colab-df-spinner {\n",
              "    border: 2px solid var(--fill-color);\n",
              "    border-color: transparent;\n",
              "    border-bottom-color: var(--fill-color);\n",
              "    animation:\n",
              "      spin 1s steps(1) infinite;\n",
              "  }\n",
              "\n",
              "  @keyframes spin {\n",
              "    0% {\n",
              "      border-color: transparent;\n",
              "      border-bottom-color: var(--fill-color);\n",
              "      border-left-color: var(--fill-color);\n",
              "    }\n",
              "    20% {\n",
              "      border-color: transparent;\n",
              "      border-left-color: var(--fill-color);\n",
              "      border-top-color: var(--fill-color);\n",
              "    }\n",
              "    30% {\n",
              "      border-color: transparent;\n",
              "      border-left-color: var(--fill-color);\n",
              "      border-top-color: var(--fill-color);\n",
              "      border-right-color: var(--fill-color);\n",
              "    }\n",
              "    40% {\n",
              "      border-color: transparent;\n",
              "      border-right-color: var(--fill-color);\n",
              "      border-top-color: var(--fill-color);\n",
              "    }\n",
              "    60% {\n",
              "      border-color: transparent;\n",
              "      border-right-color: var(--fill-color);\n",
              "    }\n",
              "    80% {\n",
              "      border-color: transparent;\n",
              "      border-right-color: var(--fill-color);\n",
              "      border-bottom-color: var(--fill-color);\n",
              "    }\n",
              "    90% {\n",
              "      border-color: transparent;\n",
              "      border-bottom-color: var(--fill-color);\n",
              "    }\n",
              "  }\n",
              "</style>\n",
              "\n",
              "  <script>\n",
              "    async function quickchart(key) {\n",
              "      const quickchartButtonEl =\n",
              "        document.querySelector('#' + key + ' button');\n",
              "      quickchartButtonEl.disabled = true;  // To prevent multiple clicks.\n",
              "      quickchartButtonEl.classList.add('colab-df-spinner');\n",
              "      try {\n",
              "        const charts = await google.colab.kernel.invokeFunction(\n",
              "            'suggestCharts', [key], {});\n",
              "      } catch (error) {\n",
              "        console.error('Error during call to suggestCharts:', error);\n",
              "      }\n",
              "      quickchartButtonEl.classList.remove('colab-df-spinner');\n",
              "      quickchartButtonEl.classList.add('colab-df-quickchart-complete');\n",
              "    }\n",
              "    (() => {\n",
              "      let quickchartButtonEl =\n",
              "        document.querySelector('#df-bb00ad6b-79fc-422b-90bc-af2f55a2ec21 button');\n",
              "      quickchartButtonEl.style.display =\n",
              "        google.colab.kernel.accessAllowed ? 'block' : 'none';\n",
              "    })();\n",
              "  </script>\n",
              "</div>\n",
              "    </div>\n",
              "  </div>\n"
            ]
          },
          "metadata": {},
          "execution_count": 1
        }
      ],
      "source": [
        "import pandas as pd\n",
        "import numpy as np\n",
        "\n",
        "\n",
        "wineDF  = pd.read_csv(\"https://raw.githubusercontent.com/bforoura/IDS/main/HW5/wine_flag_all.csv\");\n",
        "\n",
        "wineDF"
      ]
    },
    {
      "cell_type": "code",
      "source": [
        "# Test for missing values\n",
        "wineDF.isnull().sum()"
      ],
      "metadata": {
        "colab": {
          "base_uri": "https://localhost:8080/"
        },
        "id": "cwdg4adYun8_",
        "outputId": "ed462712-63a0-45c4-fdb8-32c20e1a1050"
      },
      "execution_count": 2,
      "outputs": [
        {
          "output_type": "execute_result",
          "data": {
            "text/plain": [
              "Type            0\n",
              "Alcohol_flag    0\n",
              "Sugar_flag      0\n",
              "dtype: int64"
            ]
          },
          "metadata": {},
          "execution_count": 2
        }
      ]
    },
    {
      "cell_type": "code",
      "source": [
        "from sklearn.preprocessing import LabelEncoder\n",
        "\n",
        "# Create a label encoder object\n",
        "label_encoder = LabelEncoder()\n",
        "\n",
        "# Encode categorical attributes: Type, Alcohol_flag, Sugar_flag\n",
        "wineDF['Type'] = label_encoder.fit_transform(wineDF['Type'])\n",
        "wineDF['Alcohol_flag'] = label_encoder.fit_transform(wineDF['Alcohol_flag'])\n",
        "wineDF['Sugar_flag'] = label_encoder.fit_transform(wineDF['Sugar_flag'])"
      ],
      "metadata": {
        "id": "gv7aklwxu4Ay"
      },
      "execution_count": 3,
      "outputs": []
    },
    {
      "cell_type": "code",
      "source": [
        "# Cross tabulation of Workclass and Sex\n",
        "\n",
        "p_crosstab = pd.crosstab(wineDF.Type, wineDF.Alcohol_flag)\n",
        "\n",
        "print(p_crosstab)"
      ],
      "metadata": {
        "colab": {
          "base_uri": "https://localhost:8080/"
        },
        "id": "5cyUCBRnK17H",
        "outputId": "dd6b23ab-efcd-4c02-f71d-8741fb3b840c"
      },
      "execution_count": 4,
      "outputs": [
        {
          "output_type": "stream",
          "name": "stdout",
          "text": [
            "Alcohol_flag     0     1\n",
            "Type                    \n",
            "0              485   600\n",
            "1             1176  1084\n"
          ]
        }
      ]
    },
    {
      "cell_type": "code",
      "source": [
        "# Creating barplot\n",
        "\n",
        "# x label rotation\n",
        "barplot = p_crosstab.plot.bar(rot=0)"
      ],
      "metadata": {
        "colab": {
          "base_uri": "https://localhost:8080/",
          "height": 449
        },
        "id": "UELGP5inLOst",
        "outputId": "549f1ef7-d60c-4687-e567-30437f3bd86b"
      },
      "execution_count": 5,
      "outputs": [
        {
          "output_type": "display_data",
          "data": {
            "text/plain": [
              "<Figure size 640x480 with 1 Axes>"
            ],
            "image/png": "[encoded data removed]"
          },
          "metadata": {}
        }
      ]
    },
    {
      "cell_type": "code",
      "source": [
        "# Cross tabulation of Workclass and Sex\n",
        "\n",
        "a_crosstab = pd.crosstab(wineDF.Type, wineDF.Sugar_flag)\n",
        "\n",
        "print(a_crosstab)"
      ],
      "metadata": {
        "colab": {
          "base_uri": "https://localhost:8080/"
        },
        "id": "JolqiUBdLASu",
        "outputId": "25ae27de-cdbd-412f-ed7c-60b30504a40d"
      },
      "execution_count": 6,
      "outputs": [
        {
          "output_type": "stream",
          "name": "stdout",
          "text": [
            "Sugar_flag     0    1\n",
            "Type                 \n",
            "0            237  848\n",
            "1           1382  878\n"
          ]
        }
      ]
    },
    {
      "cell_type": "code",
      "source": [
        "# Creating barplot\n",
        "\n",
        "# x label rotation\n",
        "barplot = a_crosstab.plot.bar(rot=0)"
      ],
      "metadata": {
        "colab": {
          "base_uri": "https://localhost:8080/",
          "height": 449
        },
        "id": "J0CygX31Nfbk",
        "outputId": "f715bc25-94ea-4a6e-fb7f-c62ea8791ed0"
      },
      "execution_count": 7,
      "outputs": [
        {
          "output_type": "display_data",
          "data": {
            "text/plain": [
              "<Figure size 640x480 with 1 Axes>"
            ],
            "image/png": "[encoded data removed]"
          },
          "metadata": {}
        }
      ]
    },
    {
      "cell_type": "code",
      "source": [
        "#Probability\n",
        "red_count = (wineDF['Type'] == 0).sum()\n",
        "white_count = (wineDF['Type'] == 1).sum()\n",
        "\n",
        "# Calculate the total count of samples\n",
        "total_samples = red_count + white_count\n",
        "\n",
        "# Calculate the prior probabilities\n",
        "prior_red = red_count / total_samples\n",
        "prior_white = white_count / total_samples\n",
        "\n",
        "print(\"Prior probability of Type = Red:\", prior_red)\n",
        "\n",
        "print(\"Prior probability of Type = White:\", prior_white)\n",
        "\n"
      ],
      "metadata": {
        "colab": {
          "base_uri": "https://localhost:8080/"
        },
        "id": "i6LBJoCpf8Ss",
        "outputId": "f7d1610c-1981-4d7a-f5a8-ec7c8a3c5e9f"
      },
      "execution_count": 8,
      "outputs": [
        {
          "output_type": "stream",
          "name": "stdout",
          "text": [
            "Prior probability of Type = Red: 0.3243647234678625\n",
            "Prior probability of Type = White: 0.6756352765321375\n"
          ]
        }
      ]
    },
    {
      "cell_type": "code",
      "source": [
        "#Alchol\n",
        "high_count = (wineDF['Alcohol_flag'] == 0).sum()\n",
        "low_count = (wineDF['Alcohol_flag'] == 1).sum()\n",
        "\n",
        "# total count of samples\n",
        "total_samples_alcohol = high_count + low_count\n",
        "\n",
        "# Calculate the probabilities\n",
        "probability_high_alcohol = high_count / total_samples_alcohol\n",
        "probability_low_alcohol = low_count / total_samples_alcohol\n",
        "\n",
        "print(\"Probability of High Alcohol Content:\", probability_high_alcohol)\n",
        "\n",
        "print(\"Probability of Low Alcohol Content:\", probability_low_alcohol)\n"
      ],
      "metadata": {
        "colab": {
          "base_uri": "https://localhost:8080/"
        },
        "id": "99Reu62IkxgP",
        "outputId": "e84fa913-de8e-4100-f580-9842ca9e1ab3"
      },
      "execution_count": 9,
      "outputs": [
        {
          "output_type": "stream",
          "name": "stdout",
          "text": [
            "Probability of High Alcohol Content: 0.49656203288490286\n",
            "Probability of Low Alcohol Content: 0.5034379671150971\n"
          ]
        }
      ]
    },
    {
      "cell_type": "code",
      "source": [
        "# High/Low\n",
        "high_sugar_count = (wineDF['Sugar_flag'] == 0).sum()\n",
        "low_sugar_count = (wineDF['Sugar_flag'] == 1).sum()\n",
        "\n",
        "# total count of samples\n",
        "total_samples_sugar = high_sugar_count + low_sugar_count\n",
        "\n",
        "# Calculate the probabilities\n",
        "probability_high_sugar = high_sugar_count / total_samples_sugar\n",
        "probability_low_sugar = low_sugar_count / total_samples_sugar\n",
        "\n",
        "print(\"Probability of High Sugar Content:\", probability_high_sugar)\n",
        "\n",
        "print(\"Probability of Low Sugar Content:\", probability_low_sugar)\n"
      ],
      "metadata": {
        "id": "6fMu1pvUlkc7",
        "outputId": "d13e2776-9a5e-4cae-a9a2-1c9d67f15621",
        "colab": {
          "base_uri": "https://localhost:8080/"
        }
      },
      "execution_count": 30,
      "outputs": [
        {
          "output_type": "stream",
          "name": "stdout",
          "text": [
            "Probability of High Sugar Content: 0.48400597907324366\n",
            "Probability of Low Sugar Content: 0.5159940209267564\n"
          ]
        }
      ]
    },
    {
      "cell_type": "code",
      "source": [
        "# Count of times of Type = Red\n",
        "total_RedCount = (wineDF['Type'] == 0).sum()\n",
        "\n",
        "# Count times of Type = Red and Alcohol_flag = High\n",
        "high_alcoholRedCount = ((wineDF['Type'] == 0) & (wineDF['Alcohol_flag'] == 1)).sum()\n",
        "\n",
        "# Count times of Type = Red and Alcohol_flag = Low\n",
        "low_alcoholRedCount = ((wineDF['Type'] == 0) & (wineDF['Alcohol_flag'] == 0)).sum()\n",
        "\n",
        "# Calculate conditional p for Alcohol with Type = Red\n",
        "prob_highRed = high_alcoholRedCount / total_RedCount\n",
        "prob_lowRed = low_alcoholRedCount / total_RedCount\n",
        "\n",
        "print(\"P(Alcohol_flag = High | Type = Red):\", prob_highRed)\n",
        "print(\"P(Alcohol_flag = Low | Type = Red):\", prob_lowRed)\n"
      ],
      "metadata": {
        "colab": {
          "base_uri": "https://localhost:8080/"
        },
        "id": "0M3FyBLMbJ-H",
        "outputId": "d915be49-7ded-4bbb-f57d-32d966492f1c"
      },
      "execution_count": 25,
      "outputs": [
        {
          "output_type": "stream",
          "name": "stdout",
          "text": [
            "P(Alcohol_flag = High | Type = Red): 0.5529953917050692\n",
            "P(Alcohol_flag = Low | Type = Red): 0.4470046082949309\n"
          ]
        }
      ]
    },
    {
      "cell_type": "code",
      "source": [
        "# Count of times of Type = Red\n",
        "total_red_count = (wineDF['Type'] == 0).sum()\n",
        "\n",
        "# Count times of Type = Red and Sugar_flag = High\n",
        "high_sugar_RedCount = ((wineDF['Type'] == 0) & (wineDF['Sugar_flag'] == 1)).sum()\n",
        "\n",
        "# Count times of Type = Red and Sugar_flag = Low\n",
        "low_sugar_RedCount = ((wineDF['Type'] == 0) & (wineDF['Sugar_flag'] == 0)).sum()\n",
        "\n",
        "# Calculate conditional p for Sugar with Type = Red\n",
        "prob_highRsugar = high_sugar_RedCount / total_red_count\n",
        "prob_lowRsugar = low_sugar_RedCount / total_red_count\n",
        "\n",
        "print(\"P(Sugar_flag = High | Type = Red):\", prob_highRsugar)\n",
        "print(\"P(Sugar_flag = Low | Type = Red):\", prob_lowRsugar)\n"
      ],
      "metadata": {
        "colab": {
          "base_uri": "https://localhost:8080/"
        },
        "id": "_ZYsRhMtj8td",
        "outputId": "7a8a9cb2-e913-4727-dd68-c524bf8f31f6"
      },
      "execution_count": 29,
      "outputs": [
        {
          "output_type": "stream",
          "name": "stdout",
          "text": [
            "P(Sugar_flag = High | Type = Red): 0.7815668202764977\n",
            "P(Sugar_flag = Low | Type = Red): 0.2184331797235023\n"
          ]
        }
      ]
    },
    {
      "cell_type": "code",
      "source": [
        "from sklearn.model_selection import train_test_split\n",
        "from sklearn.naive_bayes import GaussianNB\n",
        "from sklearn.metrics import accuracy_score\n",
        "\n",
        "# X & Y\n",
        "X = wineDF[['Alcohol_flag', 'Sugar_flag']]\n",
        "y = wineDF['Type']\n",
        "\n",
        "# training/test ratios\n",
        "ratios = [0.8, 0.75, 0.7, 0.6, 0.5]\n",
        "\n",
        "for ratio in ratios:\n",
        "    # Split the data into sets\n",
        "    trainX, testX, trainY, testY = train_test_split(X, y, test_size=(1 - ratio), random_state=42, stratify=y)\n",
        "\n",
        "    # Gaussian NB classifier\n",
        "    nb_classifier = GaussianNB()\n",
        "\n",
        "    # Classifier to the training data\n",
        "    nb_classifier.fit(trainX, trainY)\n",
        "\n",
        "    # Predictiction\n",
        "    preY = nb_classifier.predict(testX)\n",
        "\n",
        "    # Calculate/Print\n",
        "    accuracy = accuracy_score(testY, preY)\n",
        "\n",
        "    print(f\"Accuracy for {int(ratio*100)}-{int((1-ratio)*100)} split: {accuracy}\")\n"
      ],
      "metadata": {
        "colab": {
          "base_uri": "https://localhost:8080/"
        },
        "id": "V_t-0IJyqY3r",
        "outputId": "205239a7-0176-48f0-f77f-4932f8d081aa"
      },
      "execution_count": 28,
      "outputs": [
        {
          "output_type": "stream",
          "name": "stdout",
          "text": [
            "Accuracy for 80-19 split: 0.7204783258594918\n",
            "Accuracy for 75-25 split: 0.7228195937873357\n",
            "Accuracy for 70-30 split: 0.7260956175298805\n",
            "Accuracy for 60-40 split: 0.7242152466367713\n",
            "Accuracy for 50-50 split: 0.7280334728033473\n"
          ]
        }
      ]
    },
    {
      "cell_type": "code",
      "source": [
        "import matplotlib.pyplot as plt\n",
        "\n",
        "# Accuracies\n",
        "ratios = [80, 75, 70, 60, 50]\n",
        "accuracies = [0.7204783258594918, 0.7228195937873357, 0.7260956175298805, 0.7242152466367713, 0.7280334728033473]\n",
        "\n",
        "# Plotting my accuracies\n",
        "plt.figure(figsize=(8, 6))\n",
        "plt.plot(ratios, accuracies, marker='o', linestyle='-', color='blue')\n",
        "plt.title('Model Accuracy vs. Train/Test Split')\n",
        "plt.xlabel('Train/Test Split (%)')\n",
        "plt.ylabel('Accuracy')\n",
        "plt.grid(True)\n",
        "plt.xticks(ratios)\n",
        "plt.show()\n"
      ],
      "metadata": {
        "colab": {
          "base_uri": "https://localhost:8080/",
          "height": 564
        },
        "id": "TT0bI2B-w121",
        "outputId": "5bb8f3b2-72a9-4a46-cbdd-32a2dbd4f6ea"
      },
      "execution_count": 32,
      "outputs": [
        {
          "output_type": "display_data",
          "data": {
            "text/plain": [
              "<Figure size 800x600 with 1 Axes>"
            ],
            "image/png": "[encoded data removed]"
          },
          "metadata": {}
        }
      ]
    }
  ]
}